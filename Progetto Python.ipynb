{
 "cells": [
  {
   "cell_type": "markdown",
   "id": "68ce353e",
   "metadata": {},
   "source": [
    "# Progetto Python\n"
   ]
  },
  {
   "cell_type": "code",
   "execution_count": 1,
   "id": "55fa4dc5",
   "metadata": {},
   "outputs": [],
   "source": [
    "import pandas as pd"
   ]
  },
  {
   "cell_type": "code",
   "execution_count": null,
   "id": "ee683400",
   "metadata": {},
   "outputs": [],
   "source": [
    "import os"
   ]
  },
  {
   "cell_type": "code",
   "execution_count": null,
   "id": "86abf459",
   "metadata": {},
   "outputs": [],
   "source": [
    "os.getcwd()"
   ]
  },
  {
   "cell_type": "code",
   "execution_count": 2,
   "id": "be7f29de",
   "metadata": {},
   "outputs": [],
   "source": [
    "#carichiamo i dati degli annunci\n",
    "df_listings = pd.read_csv('/Users/ivano/Documents/listings.csv')"
   ]
  },
  {
   "cell_type": "code",
   "execution_count": 134,
   "id": "44410001",
   "metadata": {},
   "outputs": [
    {
     "name": "stdout",
     "output_type": "stream",
     "text": [
      "                       id                                               name  \\\n",
      "0                 5678774                                 Central Appartment   \n",
      "2                 6139798                              Affitto casa per Expo   \n",
      "3                 7479570                  Central Air-Conditioned Apartment   \n",
      "4                 8438872                            Bedroom for the weekend   \n",
      "5                10609449                                        LUXURY FLAT   \n",
      "...                   ...                                                ...   \n",
      "20364             4845413                 Bed & Breakfast Milanobrera Relais   \n",
      "20365  637425034363201358    Appartamento centro storico, navigli, ticinese.   \n",
      "20366            40817739             Nuvola Suite - 900mt from Duomo Square   \n",
      "20367  592550481216316403                              Abbadesse - Abbadesse   \n",
      "20368            10150665  SWEET HOME SAN LORENZO, 2 BDR, 2 BTH, CITY CENTER   \n",
      "\n",
      "                                             description  \\\n",
      "0      A very nice flat in the city center, really go...   \n",
      "2      Affittasi casa periodo estivo. Vicinissima a E...   \n",
      "3      Fully equipped house in the historical center ...   \n",
      "4      Very close to the Central Train Station and me...   \n",
      "5      Grazioso appartamento finemente arredato vicin...   \n",
      "...                                                  ...   \n",
      "20364  The Milanobrera Relais  is a recently renovate...   \n",
      "20365  In pieno centro storico, nel caratteristico e ...   \n",
      "20366  Fornasetti Suite is a lovely studio apartment ...   \n",
      "20367  Spacious two bedroom two bathroom apartment of...   \n",
      "20368  The house is located in the historical CENTER ...   \n",
      "\n",
      "                                   neighborhood_overview    host_id  \\\n",
      "0                                                    NaN   10850820   \n",
      "2      Il quartiere dispone di tutti i servizi, compr...   31850692   \n",
      "3                                                    NaN    7791230   \n",
      "4                                                    NaN   23961606   \n",
      "5      The apartment is close to Bocconi University (...   44583282   \n",
      "...                                                  ...        ...   \n",
      "20364  The Relais is located near places such as muse...   24933015   \n",
      "20365  Una tra le più caratteristiche zone di Milano,...  461479164   \n",
      "20366                                                NaN    5053160   \n",
      "20367                                                NaN   63191555   \n",
      "20368  MILAN SWEET HOME SAN LORENZO is located in the...    2718914   \n",
      "\n",
      "       host_since host_location  \\\n",
      "0      2013-12-27  Milan, Italy   \n",
      "2      2015-04-24           NaN   \n",
      "3      2013-07-29   Rome, Italy   \n",
      "4      2014-11-20  Milan, Italy   \n",
      "5      2015-09-19  Milan, Italy   \n",
      "...           ...           ...   \n",
      "20364  2014-12-17  Milan, Italy   \n",
      "20365  2022-05-29  Milan, Italy   \n",
      "20366  2013-02-11  Milan, Italy   \n",
      "20367  2016-03-16  Milan, Italy   \n",
      "20368  2012-06-23           NaN   \n",
      "\n",
      "                                              host_about host_response_time  \\\n",
      "0                                                    NaN                NaN   \n",
      "2                                                    NaN                NaN   \n",
      "3                   Appassionata user di Airb&b dal 2008                NaN   \n",
      "4                                                    NaN                NaN   \n",
      "5      PESCARE ,  NUOTARE ,  SCIARE , TUTTI GLI SPORT...                NaN   \n",
      "...                                                  ...                ...   \n",
      "20364  studio economia a Milano, amo gli sport, sopra...       within a day   \n",
      "20365                                                NaN     within an hour   \n",
      "20366  Hi! I'm Laura, I'm Milanese and I love this ci...     within an hour   \n",
      "20367  Beautiful urban apartments around Italy.\\nWe a...     within an hour   \n",
      "20368  I love traveling , experiencing always new thi...     within an hour   \n",
      "\n",
      "      host_response_rate  ... review_scores_location review_scores_value  \\\n",
      "0                    NaN  ...                   4.50                4.00   \n",
      "2                    NaN  ...                    NaN                 NaN   \n",
      "3                    NaN  ...                    NaN                 NaN   \n",
      "4                    NaN  ...                    NaN                 NaN   \n",
      "5                    NaN  ...                    NaN                 NaN   \n",
      "...                  ...  ...                    ...                 ...   \n",
      "20364                63%  ...                   4.83                4.37   \n",
      "20365               100%  ...                   4.91                4.91   \n",
      "20366               100%  ...                   4.91                4.69   \n",
      "20367               100%  ...                   4.50                3.00   \n",
      "20368               100%  ...                   4.91                4.64   \n",
      "\n",
      "                license  instant_bookable calculated_host_listings_count  \\\n",
      "0                   NaN                 f                              1   \n",
      "2                   NaN                 t                              1   \n",
      "3                   NaN                 f                              1   \n",
      "4                   NaN                 f                              1   \n",
      "5                   NaN                 f                              1   \n",
      "...                 ...               ...                            ...   \n",
      "20364               NaN                 f                              1   \n",
      "20365  015146-CNI-05119                 f                              1   \n",
      "20366  015146-CIM-02972                 t                             35   \n",
      "20367  015146-CIM-00172                 t                             76   \n",
      "20368  015146-CIM-00661                 t                             26   \n",
      "\n",
      "      calculated_host_listings_count_entire_homes  \\\n",
      "0                                               1   \n",
      "2                                               1   \n",
      "3                                               1   \n",
      "4                                               0   \n",
      "5                                               1   \n",
      "...                                           ...   \n",
      "20364                                           1   \n",
      "20365                                           1   \n",
      "20366                                          35   \n",
      "20367                                          76   \n",
      "20368                                          26   \n",
      "\n",
      "      calculated_host_listings_count_private_rooms  \\\n",
      "0                                                0   \n",
      "2                                                0   \n",
      "3                                                0   \n",
      "4                                                1   \n",
      "5                                                0   \n",
      "...                                            ...   \n",
      "20364                                            0   \n",
      "20365                                            0   \n",
      "20366                                            0   \n",
      "20367                                            0   \n",
      "20368                                            0   \n",
      "\n",
      "      calculated_host_listings_count_shared_rooms  reviews_per_month  \\\n",
      "0                                               0               0.04   \n",
      "2                                               0                NaN   \n",
      "3                                               0                NaN   \n",
      "4                                               0                NaN   \n",
      "5                                               0                NaN   \n",
      "...                                           ...                ...   \n",
      "20364                                           0               0.31   \n",
      "20365                                           0               2.92   \n",
      "20366                                           0               0.90   \n",
      "20367                                           0               0.30   \n",
      "20368                                           0               0.52   \n",
      "\n",
      "       n_reviews  \n",
      "0              3  \n",
      "2              0  \n",
      "3              0  \n",
      "4              0  \n",
      "5              0  \n",
      "...          ...  \n",
      "20364         30  \n",
      "20365         11  \n",
      "20366         35  \n",
      "20367          2  \n",
      "20368         46  \n",
      "\n",
      "[18205 rows x 57 columns]\n"
     ]
    }
   ],
   "source": [
    "print(df_listings)"
   ]
  },
  {
   "cell_type": "code",
   "execution_count": null,
   "id": "2f3edff6",
   "metadata": {},
   "outputs": [],
   "source": [
    "df_listings.dtypes"
   ]
  },
  {
   "cell_type": "code",
   "execution_count": 3,
   "id": "d0cfccc3",
   "metadata": {},
   "outputs": [],
   "source": [
    "#carichiamo i dati delle recensioni\n",
    "df_reviews = pd.read_csv('/Users/ivano/Documents/reviews.csv')"
   ]
  },
  {
   "cell_type": "code",
   "execution_count": 135,
   "id": "3219188d",
   "metadata": {},
   "outputs": [
    {
     "name": "stdout",
     "output_type": "stream",
     "text": [
      "                listing_id                  id        date  reviewer_id  \\\n",
      "0                     6400               36772  2010-04-19        94463   \n",
      "1                     6400              227727  2011-04-16       415910   \n",
      "2                     6400             1162608  2012-04-22       415910   \n",
      "3                     6400            11670681  2014-04-11      8464658   \n",
      "4                     6400            11780336  2014-04-14      5427294   \n",
      "...                    ...                 ...         ...          ...   \n",
      "611799  838184897759433339  847722747234842814  2023-03-15     46351960   \n",
      "611800  838188511130316229  846976029055875390  2023-03-14    205576010   \n",
      "611801  838266422550245358  840401357243960792  2023-03-05    424155005   \n",
      "611802  838266422550245358  843313780914723751  2023-03-09    388259970   \n",
      "611803  838266422550245358  844755620276373651  2023-03-11    186023564   \n",
      "\n",
      "       reviewer_name                                           comments  \n",
      "0               Hyun  I had such a great stay at 'the studio.'  Fran...  \n",
      "1                Tej  Staying at Francesca's and Alberto's place was...  \n",
      "2                Tej  This is my second time staying with Francesca ...  \n",
      "3           Isabelle  Ein wunderbares Zimmer mit privatem Bad/ WC, a...  \n",
      "4             Hatice  I was lucky so I have stayed with Francesca, A...  \n",
      "...              ...                                                ...  \n",
      "611799         Irina  Nice and quiet area not far from the metro and...  \n",
      "611800         Mason  this apartment is perfect!!! and angelo was an...  \n",
      "611801      Riccardo                                             Ottimo  \n",
      "611802       Mariana                                It was really nice!  \n",
      "611803        Albita  Buena relación calidad precio, cama cómoda, de...  \n",
      "\n",
      "[611804 rows x 6 columns]\n"
     ]
    }
   ],
   "source": [
    "print(df_reviews)"
   ]
  },
  {
   "cell_type": "code",
   "execution_count": null,
   "id": "dbbc6c1f",
   "metadata": {},
   "outputs": [],
   "source": [
    "print(df_reviews.dtypes)"
   ]
  },
  {
   "cell_type": "code",
   "execution_count": 5,
   "id": "d8f1de62",
   "metadata": {},
   "outputs": [],
   "source": [
    "# Calcola il numero di recensioni per ogni annuncio, può essere una buona proxy per il successo di un annuncio\n",
    "df_nreviews = df_reviews.groupby('listing_id').size().reset_index(name='n_reviews')"
   ]
  },
  {
   "cell_type": "code",
   "execution_count": null,
   "id": "2c26fe6b",
   "metadata": {},
   "outputs": [],
   "source": [
    "print(df_nreviews)"
   ]
  },
  {
   "cell_type": "code",
   "execution_count": 6,
   "id": "f2618ebd",
   "metadata": {},
   "outputs": [],
   "source": [
    "df_nreviews2 = df_nreviews.rename(columns={'listing_id': 'id'})"
   ]
  },
  {
   "cell_type": "code",
   "execution_count": null,
   "id": "0a29bee0",
   "metadata": {},
   "outputs": [],
   "source": [
    "print(df_nreviews2)"
   ]
  },
  {
   "cell_type": "code",
   "execution_count": 7,
   "id": "8288e9d4",
   "metadata": {},
   "outputs": [],
   "source": [
    "# Combina i dati degli annunci con il numero di prenotazioni\n",
    "df_listings = pd.merge(df_listings, df_nreviews2, on='id', how='left')"
   ]
  },
  {
   "cell_type": "code",
   "execution_count": 8,
   "id": "4fd5f8c3",
   "metadata": {},
   "outputs": [],
   "source": [
    "def convert_to_int(value):\n",
    "    try:\n",
    "        result = int(value)\n",
    "    except (ValueError, TypeError):\n",
    "        result = 0\n",
    "    return result"
   ]
  },
  {
   "cell_type": "code",
   "execution_count": 9,
   "id": "209e0014",
   "metadata": {},
   "outputs": [],
   "source": [
    "df_listings['n_reviews'] = df_listings['n_reviews'].apply(convert_to_int)"
   ]
  },
  {
   "cell_type": "code",
   "execution_count": null,
   "id": "b704cc0e",
   "metadata": {},
   "outputs": [],
   "source": [
    "df_listings['n_reviews'].dtypes"
   ]
  },
  {
   "cell_type": "code",
   "execution_count": null,
   "id": "8d2fc790",
   "metadata": {},
   "outputs": [],
   "source": [
    "print(df_listings['n_reviews'])"
   ]
  },
  {
   "cell_type": "code",
   "execution_count": null,
   "id": "a257e9d7",
   "metadata": {},
   "outputs": [],
   "source": [
    "df_listings['price'].dtypes"
   ]
  },
  {
   "cell_type": "code",
   "execution_count": 10,
   "id": "730dde3b",
   "metadata": {},
   "outputs": [],
   "source": [
    "df_listings['price'] = df_listings['price'].replace({'\\$': ''}, regex=True).astype(str)"
   ]
  },
  {
   "cell_type": "code",
   "execution_count": 11,
   "id": "a58411d9",
   "metadata": {},
   "outputs": [],
   "source": [
    "df_listings['price'] = df_listings['price'].str.replace(',', '').astype(float)"
   ]
  },
  {
   "cell_type": "code",
   "execution_count": null,
   "id": "20b0851c",
   "metadata": {},
   "outputs": [],
   "source": [
    "df_listings['price'].dtypes"
   ]
  },
  {
   "cell_type": "code",
   "execution_count": null,
   "id": "ad5d7c30",
   "metadata": {},
   "outputs": [],
   "source": [
    "df_listings['description'] = df_listings['description'].astype(str)"
   ]
  },
  {
   "cell_type": "code",
   "execution_count": null,
   "id": "f3c79f78",
   "metadata": {},
   "outputs": [],
   "source": [
    "df_listings['len_description'] = df_listings['description'].apply(lambda x : len(str(x)))"
   ]
  },
  {
   "cell_type": "code",
   "execution_count": 12,
   "id": "3c264e6a",
   "metadata": {},
   "outputs": [
    {
     "data": {
      "text/html": [
       "<div>\n",
       "<style scoped>\n",
       "    .dataframe tbody tr th:only-of-type {\n",
       "        vertical-align: middle;\n",
       "    }\n",
       "\n",
       "    .dataframe tbody tr th {\n",
       "        vertical-align: top;\n",
       "    }\n",
       "\n",
       "    .dataframe thead th {\n",
       "        text-align: right;\n",
       "    }\n",
       "</style>\n",
       "<table border=\"1\" class=\"dataframe\">\n",
       "  <thead>\n",
       "    <tr style=\"text-align: right;\">\n",
       "      <th></th>\n",
       "      <th>host_location</th>\n",
       "      <th>id</th>\n",
       "      <th>latitude</th>\n",
       "      <th>longitude</th>\n",
       "    </tr>\n",
       "  </thead>\n",
       "  <tbody>\n",
       "    <tr>\n",
       "      <th>0</th>\n",
       "      <td>Milan, Italy</td>\n",
       "      <td>5678774</td>\n",
       "      <td>45.452340</td>\n",
       "      <td>9.174740</td>\n",
       "    </tr>\n",
       "    <tr>\n",
       "      <th>1</th>\n",
       "      <td>Milan, Italy</td>\n",
       "      <td>5625937</td>\n",
       "      <td>45.460010</td>\n",
       "      <td>9.185820</td>\n",
       "    </tr>\n",
       "    <tr>\n",
       "      <th>2</th>\n",
       "      <td>NaN</td>\n",
       "      <td>6139798</td>\n",
       "      <td>45.512520</td>\n",
       "      <td>9.130460</td>\n",
       "    </tr>\n",
       "    <tr>\n",
       "      <th>3</th>\n",
       "      <td>Rome, Italy</td>\n",
       "      <td>7479570</td>\n",
       "      <td>45.456200</td>\n",
       "      <td>9.201310</td>\n",
       "    </tr>\n",
       "    <tr>\n",
       "      <th>4</th>\n",
       "      <td>Milan, Italy</td>\n",
       "      <td>8438872</td>\n",
       "      <td>45.495470</td>\n",
       "      <td>9.207160</td>\n",
       "    </tr>\n",
       "    <tr>\n",
       "      <th>...</th>\n",
       "      <td>...</td>\n",
       "      <td>...</td>\n",
       "      <td>...</td>\n",
       "      <td>...</td>\n",
       "    </tr>\n",
       "    <tr>\n",
       "      <th>20365</th>\n",
       "      <td>Milan, Italy</td>\n",
       "      <td>637425034363201358</td>\n",
       "      <td>45.457314</td>\n",
       "      <td>9.180191</td>\n",
       "    </tr>\n",
       "    <tr>\n",
       "      <th>20366</th>\n",
       "      <td>Milan, Italy</td>\n",
       "      <td>40817739</td>\n",
       "      <td>45.458340</td>\n",
       "      <td>9.179450</td>\n",
       "    </tr>\n",
       "    <tr>\n",
       "      <th>20367</th>\n",
       "      <td>Milan, Italy</td>\n",
       "      <td>592550481216316403</td>\n",
       "      <td>45.492150</td>\n",
       "      <td>9.193410</td>\n",
       "    </tr>\n",
       "    <tr>\n",
       "      <th>20368</th>\n",
       "      <td>NaN</td>\n",
       "      <td>10150665</td>\n",
       "      <td>45.460520</td>\n",
       "      <td>9.180800</td>\n",
       "    </tr>\n",
       "    <tr>\n",
       "      <th>20369</th>\n",
       "      <td>San Donato Milanese, Italy</td>\n",
       "      <td>22007360</td>\n",
       "      <td>45.442290</td>\n",
       "      <td>9.212820</td>\n",
       "    </tr>\n",
       "  </tbody>\n",
       "</table>\n",
       "<p>20370 rows × 4 columns</p>\n",
       "</div>"
      ],
      "text/plain": [
       "                    host_location                  id   latitude  longitude\n",
       "0                    Milan, Italy             5678774  45.452340   9.174740\n",
       "1                    Milan, Italy             5625937  45.460010   9.185820\n",
       "2                             NaN             6139798  45.512520   9.130460\n",
       "3                     Rome, Italy             7479570  45.456200   9.201310\n",
       "4                    Milan, Italy             8438872  45.495470   9.207160\n",
       "...                           ...                 ...        ...        ...\n",
       "20365                Milan, Italy  637425034363201358  45.457314   9.180191\n",
       "20366                Milan, Italy            40817739  45.458340   9.179450\n",
       "20367                Milan, Italy  592550481216316403  45.492150   9.193410\n",
       "20368                         NaN            10150665  45.460520   9.180800\n",
       "20369  San Donato Milanese, Italy            22007360  45.442290   9.212820\n",
       "\n",
       "[20370 rows x 4 columns]"
      ]
     },
     "execution_count": 12,
     "metadata": {},
     "output_type": "execute_result"
    }
   ],
   "source": [
    "df_listings[['host_location', 'id', 'latitude', 'longitude']]"
   ]
  },
  {
   "cell_type": "code",
   "execution_count": 13,
   "id": "d9715a02",
   "metadata": {},
   "outputs": [],
   "source": [
    "#eliminiamo le colonne di cui non ci serviremo\n",
    "df_listings = df_listings.drop(['listing_url', 'scrape_id', 'last_scraped', 'source', 'picture_url', 'host_url','host_name','host_thumbnail_url', 'host_picture_url', 'host_neighbourhood','neighbourhood_cleansed','neighbourhood_group_cleansed','minimum_minimum_nights', 'maximum_minimum_nights', 'minimum_maximum_nights', 'maximum_maximum_nights', 'minimum_nights_avg_ntm', 'maximum_nights_avg_ntm', 'calendar_updated' ], axis=1)"
   ]
  },
  {
   "cell_type": "code",
   "execution_count": null,
   "id": "a25384e7",
   "metadata": {
    "scrolled": true
   },
   "outputs": [],
   "source": [
    "df_listings"
   ]
  },
  {
   "cell_type": "code",
   "execution_count": 14,
   "id": "080eeda1",
   "metadata": {},
   "outputs": [],
   "source": [
    "import matplotlib.pyplot as plt"
   ]
  },
  {
   "cell_type": "code",
   "execution_count": null,
   "id": "1fda2caf",
   "metadata": {},
   "outputs": [],
   "source": [
    "fig,ax = plt.subplots(figsize=(12,12), ncols=1)\n",
    "ax.boxplot(df_listings['price'])\n",
    "plt.tight_layout()\n",
    "plt.show()"
   ]
  },
  {
   "cell_type": "code",
   "execution_count": 15,
   "id": "a1314d9e",
   "metadata": {},
   "outputs": [],
   "source": [
    "from scipy import stats"
   ]
  },
  {
   "cell_type": "code",
   "execution_count": null,
   "id": "4976d597",
   "metadata": {},
   "outputs": [],
   "source": [
    "Q1 = df_listings['price'].quantile(0.25)\n",
    "Q3 = df_listings['price'].quantile(0.75)\n",
    "IQR = Q3 - Q1\n",
    "\n",
    "lower_bound = Q1 - 1.5*IQR\n",
    "upper_bound = Q3 + 1.5*IQR\n",
    "\n",
    "df_listings = df_listings[(df_listings['price'] >= lower_bound) & (df_listings['price'] <= upper_bound)]\n"
   ]
  },
  {
   "cell_type": "code",
   "execution_count": null,
   "id": "5549dd5c",
   "metadata": {},
   "outputs": [],
   "source": [
    "df_listings"
   ]
  },
  {
   "cell_type": "code",
   "execution_count": null,
   "id": "54cd6848",
   "metadata": {},
   "outputs": [],
   "source": [
    "fig,ax = plt.subplots(figsize=(12,12), ncols=1)\n",
    "ax.boxplot(df_listings['price'])\n",
    "plt.tight_layout()\n",
    "plt.show()"
   ]
  },
  {
   "cell_type": "code",
   "execution_count": 22,
   "id": "e5b68965",
   "metadata": {},
   "outputs": [],
   "source": [
    "df_success = df_listings[(df_listings['n_reviews'] >= 50)&(df_listings['availability_30'] <= 10)]"
   ]
  },
  {
   "cell_type": "code",
   "execution_count": null,
   "id": "a41914eb",
   "metadata": {},
   "outputs": [],
   "source": [
    "print(df_success)"
   ]
  },
  {
   "cell_type": "code",
   "execution_count": 23,
   "id": "d6a74a61",
   "metadata": {},
   "outputs": [],
   "source": [
    "df_listings = pd.merge(df_listings, df_success['id'], on='id', how='outer', suffixes=('_listings', '_success'), indicator=True)\n",
    "df_listings = df_listings[df_listings['_merge'] == 'left_only']\n",
    "df_listings = df_listings.drop('_merge', axis=1)"
   ]
  },
  {
   "cell_type": "code",
   "execution_count": null,
   "id": "c70dc115",
   "metadata": {},
   "outputs": [],
   "source": [
    "meanprice_success = df_success['price'].mean()\n",
    "stdprice_success = df_success['price'].std()\n",
    "meanprice_listings = df_listings['price'].mean()\n",
    "stdprice_listings = df_listings['price'].std()"
   ]
  },
  {
   "cell_type": "code",
   "execution_count": null,
   "id": "52eb7a28",
   "metadata": {},
   "outputs": [],
   "source": [
    "t, p = stats.ttest_ind_from_stats(mean1=meanprice_success, std1=stdprice_success, nobs1=len(df_success),\n",
    "                                  mean2=meanprice_listings, std2=stdprice_listings, nobs2=len(df_listings))\n"
   ]
  },
  {
   "cell_type": "code",
   "execution_count": null,
   "id": "9a88f9c8",
   "metadata": {},
   "outputs": [],
   "source": [
    "if p < 0.05:\n",
    "    print(\"La differenza tra le medie dei prezzi è significativa\")\n",
    "else:\n",
    "    print(\"La differenza tra le medie dei prezzi non è significativa\")"
   ]
  },
  {
   "cell_type": "code",
   "execution_count": null,
   "id": "1bf16e39",
   "metadata": {},
   "outputs": [],
   "source": [
    "meanprice_success"
   ]
  },
  {
   "cell_type": "code",
   "execution_count": null,
   "id": "8496695f",
   "metadata": {},
   "outputs": [],
   "source": [
    "meanprice_listings"
   ]
  },
  {
   "cell_type": "code",
   "execution_count": null,
   "id": "da642279",
   "metadata": {},
   "outputs": [],
   "source": [
    "stdprice_success"
   ]
  },
  {
   "cell_type": "code",
   "execution_count": null,
   "id": "95e8e6e3",
   "metadata": {},
   "outputs": [],
   "source": [
    "stdprice_listings"
   ]
  },
  {
   "cell_type": "code",
   "execution_count": null,
   "id": "ce559d35",
   "metadata": {},
   "outputs": [],
   "source": [
    "meanlendes_success = df_success['len_description'].mean()\n",
    "stdlendes_success = df_success['len_description'].std()\n",
    "meanlendes_listings = df_listings['len_description'].mean()\n",
    "stdlendes_listings = df_listings['len_description'].std()"
   ]
  },
  {
   "cell_type": "code",
   "execution_count": null,
   "id": "d6f5685d",
   "metadata": {},
   "outputs": [],
   "source": [
    "tlen, plen = stats.ttest_ind_from_stats(mean1=meanprice_success, std1=stdprice_success, nobs1=len(df_success),\n",
    "                                  mean2=meanprice_listings, std2=stdprice_listings, nobs2=len(df_listings))\n"
   ]
  },
  {
   "cell_type": "code",
   "execution_count": null,
   "id": "001a3c4b",
   "metadata": {},
   "outputs": [],
   "source": [
    "if plen < 0.05:\n",
    "    print(\"La differenza tra le medie della lunghezza delle descrizioni è significativa\")\n",
    "else:\n",
    "    print(\"La differenza tra le medie della lunghezza delle descrizioni non è significativa\")"
   ]
  },
  {
   "cell_type": "code",
   "execution_count": null,
   "id": "00e37cd3",
   "metadata": {},
   "outputs": [],
   "source": [
    "meanlendes_success"
   ]
  },
  {
   "cell_type": "code",
   "execution_count": null,
   "id": "bf3818d2",
   "metadata": {},
   "outputs": [],
   "source": [
    "meanlendes_listings"
   ]
  },
  {
   "cell_type": "code",
   "execution_count": null,
   "id": "35aa7536",
   "metadata": {},
   "outputs": [],
   "source": [
    "stdlendes_success"
   ]
  },
  {
   "cell_type": "code",
   "execution_count": null,
   "id": "c59c8bb5",
   "metadata": {},
   "outputs": [],
   "source": [
    "stdlendes_listings"
   ]
  },
  {
   "cell_type": "code",
   "execution_count": 16,
   "id": "bd4e073e",
   "metadata": {},
   "outputs": [],
   "source": [
    "import pandas as pd"
   ]
  },
  {
   "cell_type": "code",
   "execution_count": null,
   "id": "02b21028",
   "metadata": {},
   "outputs": [],
   "source": [
    "all_words = ' '.join(df_success['description'].astype(str).tolist())"
   ]
  },
  {
   "cell_type": "code",
   "execution_count": null,
   "id": "929eeb78",
   "metadata": {},
   "outputs": [],
   "source": [
    "all_words"
   ]
  },
  {
   "cell_type": "code",
   "execution_count": null,
   "id": "5f042d67",
   "metadata": {},
   "outputs": [],
   "source": [
    "def word_count(df, col_name):\n",
    "    # Uniamo tutte le parole in una stringa unica\n",
    "    all_words = ' '.join(df[col_name].astype(str).tolist())\n",
    "   # Rimuove la punteggiatura e le cifre\n",
    "    text = re.sub(r'[^\\w\\s]', '', text)\n",
    "    text = re.sub(r'\\d', '', text)\n",
    "\n",
    "    # Converti il testo in una lista di parole\n",
    "    words = text.split()\n",
    "\n",
    "    # Conta le ricorrenze di ogni parola\n",
    "    word_counts = {}\n",
    "    for word in words:\n",
    "        if word in word_counts:\n",
    "            word_counts[word] += 1\n",
    "        else:\n",
    "            word_counts[word] = 1\n",
    "\n",
    "    return word_counts"
   ]
  },
  {
   "cell_type": "code",
   "execution_count": null,
   "id": "0d6a2152",
   "metadata": {},
   "outputs": [],
   "source": [
    "word_success_description = word_count(df_success, description)"
   ]
  },
  {
   "cell_type": "markdown",
   "id": "61ad02c9",
   "metadata": {},
   "source": [
    "GEOLOCALIZZAZIONE"
   ]
  },
  {
   "cell_type": "code",
   "execution_count": null,
   "id": "2b605cec",
   "metadata": {},
   "outputs": [],
   "source": [
    "pip install pandas-geojson"
   ]
  },
  {
   "cell_type": "code",
   "execution_count": null,
   "id": "1cc32c9e",
   "metadata": {},
   "outputs": [],
   "source": [
    "pip install geopandas"
   ]
  },
  {
   "cell_type": "code",
   "execution_count": 17,
   "id": "27d93a4e",
   "metadata": {},
   "outputs": [],
   "source": [
    "from pandas_geojson import read_geojson\n",
    "geo_json = read_geojson('/Users/ivano/Documents/neighbourhoods.geojson')"
   ]
  },
  {
   "cell_type": "code",
   "execution_count": 18,
   "id": "1f5134ab",
   "metadata": {},
   "outputs": [],
   "source": [
    "df_neigh = pd.read_csv('/Users/ivano/Documents/neighbourhoods.csv')"
   ]
  },
  {
   "cell_type": "code",
   "execution_count": 19,
   "id": "cca2c4cc",
   "metadata": {},
   "outputs": [],
   "source": [
    "import geopandas as gps"
   ]
  },
  {
   "cell_type": "code",
   "execution_count": 20,
   "id": "53f06b36",
   "metadata": {},
   "outputs": [],
   "source": [
    "milan_gps = gps.read_file('/Users/ivano/Documents/neighbourhoods.geojson')"
   ]
  },
  {
   "cell_type": "code",
   "execution_count": 136,
   "id": "583c5adf",
   "metadata": {},
   "outputs": [
    {
     "name": "stdout",
     "output_type": "stream",
     "text": [
      "<class 'geopandas.geodataframe.GeoDataFrame'>\n",
      "RangeIndex: 88 entries, 0 to 87\n",
      "Data columns (total 3 columns):\n",
      " #   Column               Non-Null Count  Dtype   \n",
      "---  ------               --------------  -----   \n",
      " 0   neighbourhood        88 non-null     object  \n",
      " 1   neighbourhood_group  0 non-null      float64 \n",
      " 2   geometry             88 non-null     geometry\n",
      "dtypes: float64(1), geometry(1), object(1)\n",
      "memory usage: 2.2+ KB\n"
     ]
    }
   ],
   "source": [
    "milan_gps.info()"
   ]
  },
  {
   "cell_type": "code",
   "execution_count": 137,
   "id": "cca6849f",
   "metadata": {},
   "outputs": [
    {
     "data": {
      "text/plain": [
       "<AxesSubplot:>"
      ]
     },
     "execution_count": 137,
     "metadata": {},
     "output_type": "execute_result"
    },
    {
     "data": {
      "image/png": "[encoded data removed]",
      "text/plain": [
       "<Figure size 640x480 with 1 Axes>"
      ]
     },
     "metadata": {},
     "output_type": "display_data"
    }
   ],
   "source": [
    "milan_gps.plot()"
   ]
  },
  {
   "cell_type": "code",
   "execution_count": 138,
   "id": "35ecadd3",
   "metadata": {},
   "outputs": [
    {
     "data": {
      "text/plain": [
       "0     MULTIPOLYGON (((9.12195 45.51602, 9.12163 45.5...\n",
       "1     MULTIPOLYGON (((9.16887 45.52396, 9.16803 45.5...\n",
       "2     MULTIPOLYGON (((9.12932 45.50998, 9.12973 45.5...\n",
       "3     MULTIPOLYGON (((9.14368 45.48474, 9.14338 45.4...\n",
       "4     MULTIPOLYGON (((9.23739 45.45588, 9.23731 45.4...\n",
       "                            ...                        \n",
       "83    MULTIPOLYGON (((9.09998 45.48789, 9.10146 45.4...\n",
       "84    MULTIPOLYGON (((9.21002 45.44739, 9.21018 45.4...\n",
       "85    MULTIPOLYGON (((9.15266 45.41520, 9.15200 45.4...\n",
       "86    MULTIPOLYGON (((9.16506 45.46684, 9.16486 45.4...\n",
       "87    MULTIPOLYGON (((9.19871 45.48484, 9.19836 45.4...\n",
       "Name: geometry, Length: 88, dtype: geometry"
      ]
     },
     "execution_count": 138,
     "metadata": {},
     "output_type": "execute_result"
    }
   ],
   "source": [
    "milan_gps['geometry']"
   ]
  },
  {
   "cell_type": "code",
   "execution_count": 139,
   "id": "6f1938c9",
   "metadata": {},
   "outputs": [
    {
     "name": "stderr",
     "output_type": "stream",
     "text": [
      "C:\\Users\\ivano\\AppData\\Local\\Temp\\ipykernel_4360\\639869370.py:1: UserWarning: Geometry is in a geographic CRS. Results from 'centroid' are likely incorrect. Use 'GeoSeries.to_crs()' to re-project geometries to a projected CRS before this operation.\n",
      "\n",
      "  milan_gps.centroid\n"
     ]
    },
    {
     "data": {
      "text/plain": [
       "0     POINT (9.12275 45.52025)\n",
       "1     POINT (9.15998 45.52646)\n",
       "2     POINT (9.12139 45.51225)\n",
       "3     POINT (9.13630 45.48733)\n",
       "4     POINT (9.23027 45.45342)\n",
       "                ...           \n",
       "83    POINT (9.08574 45.48470)\n",
       "84    POINT (9.20514 45.45040)\n",
       "85    POINT (9.14199 45.42333)\n",
       "86    POINT (9.16286 45.47354)\n",
       "87    POINT (9.19058 45.48359)\n",
       "Length: 88, dtype: geometry"
      ]
     },
     "execution_count": 139,
     "metadata": {},
     "output_type": "execute_result"
    }
   ],
   "source": [
    "milan_gps.centroid"
   ]
  },
  {
   "cell_type": "code",
   "execution_count": 24,
   "id": "607813c3",
   "metadata": {},
   "outputs": [],
   "source": [
    "geo_success = df_success[['id', 'latitude', 'longitude']]"
   ]
  },
  {
   "cell_type": "code",
   "execution_count": 140,
   "id": "ced68f96",
   "metadata": {},
   "outputs": [
    {
     "data": {
      "text/html": [
       "<div>\n",
       "<style scoped>\n",
       "    .dataframe tbody tr th:only-of-type {\n",
       "        vertical-align: middle;\n",
       "    }\n",
       "\n",
       "    .dataframe tbody tr th {\n",
       "        vertical-align: top;\n",
       "    }\n",
       "\n",
       "    .dataframe thead th {\n",
       "        text-align: right;\n",
       "    }\n",
       "</style>\n",
       "<table border=\"1\" class=\"dataframe\">\n",
       "  <thead>\n",
       "    <tr style=\"text-align: right;\">\n",
       "      <th></th>\n",
       "      <th>id</th>\n",
       "      <th>latitude</th>\n",
       "      <th>longitude</th>\n",
       "    </tr>\n",
       "  </thead>\n",
       "  <tbody>\n",
       "    <tr>\n",
       "      <th>0</th>\n",
       "      <td>5625937</td>\n",
       "      <td>45.46001</td>\n",
       "      <td>9.18582</td>\n",
       "    </tr>\n",
       "    <tr>\n",
       "      <th>1</th>\n",
       "      <td>206450</td>\n",
       "      <td>45.45238</td>\n",
       "      <td>9.20745</td>\n",
       "    </tr>\n",
       "    <tr>\n",
       "      <th>2</th>\n",
       "      <td>26374075</td>\n",
       "      <td>45.49226</td>\n",
       "      <td>9.22463</td>\n",
       "    </tr>\n",
       "    <tr>\n",
       "      <th>3</th>\n",
       "      <td>4123599</td>\n",
       "      <td>45.46024</td>\n",
       "      <td>9.18091</td>\n",
       "    </tr>\n",
       "    <tr>\n",
       "      <th>4</th>\n",
       "      <td>2759420</td>\n",
       "      <td>45.48264</td>\n",
       "      <td>9.18543</td>\n",
       "    </tr>\n",
       "    <tr>\n",
       "      <th>...</th>\n",
       "      <td>...</td>\n",
       "      <td>...</td>\n",
       "      <td>...</td>\n",
       "    </tr>\n",
       "    <tr>\n",
       "      <th>2160</th>\n",
       "      <td>3816798</td>\n",
       "      <td>45.47167</td>\n",
       "      <td>9.23089</td>\n",
       "    </tr>\n",
       "    <tr>\n",
       "      <th>2161</th>\n",
       "      <td>17899097</td>\n",
       "      <td>45.46499</td>\n",
       "      <td>9.22995</td>\n",
       "    </tr>\n",
       "    <tr>\n",
       "      <th>2162</th>\n",
       "      <td>3725671</td>\n",
       "      <td>45.47641</td>\n",
       "      <td>9.18230</td>\n",
       "    </tr>\n",
       "    <tr>\n",
       "      <th>2163</th>\n",
       "      <td>45512683</td>\n",
       "      <td>45.48123</td>\n",
       "      <td>9.17672</td>\n",
       "    </tr>\n",
       "    <tr>\n",
       "      <th>2164</th>\n",
       "      <td>22007360</td>\n",
       "      <td>45.44229</td>\n",
       "      <td>9.21282</td>\n",
       "    </tr>\n",
       "  </tbody>\n",
       "</table>\n",
       "<p>2165 rows × 3 columns</p>\n",
       "</div>"
      ],
      "text/plain": [
       "            id  latitude  longitude\n",
       "0      5625937  45.46001    9.18582\n",
       "1       206450  45.45238    9.20745\n",
       "2     26374075  45.49226    9.22463\n",
       "3      4123599  45.46024    9.18091\n",
       "4      2759420  45.48264    9.18543\n",
       "...        ...       ...        ...\n",
       "2160   3816798  45.47167    9.23089\n",
       "2161  17899097  45.46499    9.22995\n",
       "2162   3725671  45.47641    9.18230\n",
       "2163  45512683  45.48123    9.17672\n",
       "2164  22007360  45.44229    9.21282\n",
       "\n",
       "[2165 rows x 3 columns]"
      ]
     },
     "execution_count": 140,
     "metadata": {},
     "output_type": "execute_result"
    }
   ],
   "source": [
    "geo_success"
   ]
  },
  {
   "cell_type": "code",
   "execution_count": null,
   "id": "3e579d53",
   "metadata": {},
   "outputs": [],
   "source": [
    "plt.scatter(geo_success['longitude'],geo_success['latitude'], s = 1, c = 'red')"
   ]
  },
  {
   "cell_type": "code",
   "execution_count": 25,
   "id": "53b9f87b",
   "metadata": {},
   "outputs": [
    {
     "data": {
      "text/html": [
       "<div>\n",
       "<style scoped>\n",
       "    .dataframe tbody tr th:only-of-type {\n",
       "        vertical-align: middle;\n",
       "    }\n",
       "\n",
       "    .dataframe tbody tr th {\n",
       "        vertical-align: top;\n",
       "    }\n",
       "\n",
       "    .dataframe thead th {\n",
       "        text-align: right;\n",
       "    }\n",
       "</style>\n",
       "<table border=\"1\" class=\"dataframe\">\n",
       "  <thead>\n",
       "    <tr style=\"text-align: right;\">\n",
       "      <th></th>\n",
       "      <th>id</th>\n",
       "      <th>latitude</th>\n",
       "      <th>longitude</th>\n",
       "    </tr>\n",
       "  </thead>\n",
       "  <tbody>\n",
       "    <tr>\n",
       "      <th>0</th>\n",
       "      <td>5678774</td>\n",
       "      <td>45.452340</td>\n",
       "      <td>9.174740</td>\n",
       "    </tr>\n",
       "    <tr>\n",
       "      <th>2</th>\n",
       "      <td>6139798</td>\n",
       "      <td>45.512520</td>\n",
       "      <td>9.130460</td>\n",
       "    </tr>\n",
       "    <tr>\n",
       "      <th>3</th>\n",
       "      <td>7479570</td>\n",
       "      <td>45.456200</td>\n",
       "      <td>9.201310</td>\n",
       "    </tr>\n",
       "    <tr>\n",
       "      <th>4</th>\n",
       "      <td>8438872</td>\n",
       "      <td>45.495470</td>\n",
       "      <td>9.207160</td>\n",
       "    </tr>\n",
       "    <tr>\n",
       "      <th>5</th>\n",
       "      <td>10609449</td>\n",
       "      <td>45.448450</td>\n",
       "      <td>9.181160</td>\n",
       "    </tr>\n",
       "    <tr>\n",
       "      <th>...</th>\n",
       "      <td>...</td>\n",
       "      <td>...</td>\n",
       "      <td>...</td>\n",
       "    </tr>\n",
       "    <tr>\n",
       "      <th>20364</th>\n",
       "      <td>4845413</td>\n",
       "      <td>45.476990</td>\n",
       "      <td>9.182210</td>\n",
       "    </tr>\n",
       "    <tr>\n",
       "      <th>20365</th>\n",
       "      <td>637425034363201358</td>\n",
       "      <td>45.457314</td>\n",
       "      <td>9.180191</td>\n",
       "    </tr>\n",
       "    <tr>\n",
       "      <th>20366</th>\n",
       "      <td>40817739</td>\n",
       "      <td>45.458340</td>\n",
       "      <td>9.179450</td>\n",
       "    </tr>\n",
       "    <tr>\n",
       "      <th>20367</th>\n",
       "      <td>592550481216316403</td>\n",
       "      <td>45.492150</td>\n",
       "      <td>9.193410</td>\n",
       "    </tr>\n",
       "    <tr>\n",
       "      <th>20368</th>\n",
       "      <td>10150665</td>\n",
       "      <td>45.460520</td>\n",
       "      <td>9.180800</td>\n",
       "    </tr>\n",
       "  </tbody>\n",
       "</table>\n",
       "<p>18205 rows × 3 columns</p>\n",
       "</div>"
      ],
      "text/plain": [
       "                       id   latitude  longitude\n",
       "0                 5678774  45.452340   9.174740\n",
       "2                 6139798  45.512520   9.130460\n",
       "3                 7479570  45.456200   9.201310\n",
       "4                 8438872  45.495470   9.207160\n",
       "5                10609449  45.448450   9.181160\n",
       "...                   ...        ...        ...\n",
       "20364             4845413  45.476990   9.182210\n",
       "20365  637425034363201358  45.457314   9.180191\n",
       "20366            40817739  45.458340   9.179450\n",
       "20367  592550481216316403  45.492150   9.193410\n",
       "20368            10150665  45.460520   9.180800\n",
       "\n",
       "[18205 rows x 3 columns]"
      ]
     },
     "execution_count": 25,
     "metadata": {},
     "output_type": "execute_result"
    }
   ],
   "source": [
    "df_listings[['id', 'latitude', 'longitude']]"
   ]
  },
  {
   "cell_type": "code",
   "execution_count": 26,
   "id": "373e9e95",
   "metadata": {},
   "outputs": [],
   "source": [
    "geo_unsuccess = df_listings[['id', 'latitude', 'longitude']]"
   ]
  },
  {
   "cell_type": "code",
   "execution_count": null,
   "id": "1f9152e8",
   "metadata": {},
   "outputs": [],
   "source": [
    "geo_success"
   ]
  },
  {
   "cell_type": "code",
   "execution_count": null,
   "id": "f17a2b2a",
   "metadata": {},
   "outputs": [],
   "source": [
    "geo_unsuccess"
   ]
  },
  {
   "cell_type": "code",
   "execution_count": null,
   "id": "f530b226",
   "metadata": {},
   "outputs": [],
   "source": [
    "geo_unsuccess.info()"
   ]
  },
  {
   "cell_type": "code",
   "execution_count": null,
   "id": "4a9cb75f",
   "metadata": {},
   "outputs": [],
   "source": [
    "plt.scatter(geo_unsuccess['longitude'],geo_unsuccess['latitude'], s = 1, c = 'green')"
   ]
  },
  {
   "cell_type": "code",
   "execution_count": 141,
   "id": "25e83f59",
   "metadata": {},
   "outputs": [
    {
     "data": {
      "text/plain": [
       "<AxesSubplot:>"
      ]
     },
     "execution_count": 141,
     "metadata": {},
     "output_type": "execute_result"
    },
    {
     "data": {
      "image/png": "[encoded data removed]",
      "text/plain": [
       "<Figure size 640x480 with 1 Axes>"
      ]
     },
     "metadata": {},
     "output_type": "display_data"
    },
    {
     "data": {
      "image/png": "[encoded data removed]",
      "text/plain": [
       "<Figure size 640x480 with 1 Axes>"
      ]
     },
     "metadata": {},
     "output_type": "display_data"
    }
   ],
   "source": [
    "plt.scatter(geo_unsuccess['longitude'],geo_unsuccess['latitude'], s = 1, c = 'green')\n",
    "plt.scatter(geo_success['longitude'],geo_success['latitude'], s = 1, c = 'red')\n",
    "milan_gps.plot()"
   ]
  },
  {
   "cell_type": "code",
   "execution_count": null,
   "id": "eae8fcf4",
   "metadata": {},
   "outputs": [],
   "source": [
    "plt.scatter(geo_unsuccess['longitude'],geo_unsuccess['latitude'], s = 1, c = 'green')\n",
    "plt.scatter(geo_success['longitude'],geo_success['latitude'], s = 1, c = 'red')"
   ]
  },
  {
   "cell_type": "code",
   "execution_count": 27,
   "id": "4e8d0474",
   "metadata": {},
   "outputs": [],
   "source": [
    "df_metro = pd.read_json(r'C:/Users/ivano/documenti/metromilano.json')"
   ]
  },
  {
   "cell_type": "code",
   "execution_count": 142,
   "id": "1e3788f2",
   "metadata": {},
   "outputs": [
    {
     "data": {
      "text/html": [
       "<div>\n",
       "<style scoped>\n",
       "    .dataframe tbody tr th:only-of-type {\n",
       "        vertical-align: middle;\n",
       "    }\n",
       "\n",
       "    .dataframe tbody tr th {\n",
       "        vertical-align: top;\n",
       "    }\n",
       "\n",
       "    .dataframe thead th {\n",
       "        text-align: right;\n",
       "    }\n",
       "</style>\n",
       "<table border=\"1\" class=\"dataframe\">\n",
       "  <thead>\n",
       "    <tr style=\"text-align: right;\">\n",
       "      <th></th>\n",
       "      <th>ID</th>\n",
       "      <th>FERMATA</th>\n",
       "      <th>N_ARCHI</th>\n",
       "      <th>latitude</th>\n",
       "      <th>longitude</th>\n",
       "    </tr>\n",
       "  </thead>\n",
       "  <tbody>\n",
       "    <tr>\n",
       "      <th>0</th>\n",
       "      <td>2</td>\n",
       "      <td>GESSATE</td>\n",
       "      <td>1</td>\n",
       "      <td>45.546128</td>\n",
       "      <td>9.437564</td>\n",
       "    </tr>\n",
       "    <tr>\n",
       "      <th>1</th>\n",
       "      <td>4</td>\n",
       "      <td>ZARA</td>\n",
       "      <td>2</td>\n",
       "      <td>45.492662</td>\n",
       "      <td>9.192703</td>\n",
       "    </tr>\n",
       "    <tr>\n",
       "      <th>2</th>\n",
       "      <td>5</td>\n",
       "      <td>S.DONATO</td>\n",
       "      <td>1</td>\n",
       "      <td>45.430214</td>\n",
       "      <td>9.256324</td>\n",
       "    </tr>\n",
       "    <tr>\n",
       "      <th>3</th>\n",
       "      <td>6</td>\n",
       "      <td>MACIACHINI</td>\n",
       "      <td>2</td>\n",
       "      <td>45.497771</td>\n",
       "      <td>9.184904</td>\n",
       "    </tr>\n",
       "    <tr>\n",
       "      <th>4</th>\n",
       "      <td>8</td>\n",
       "      <td>MOLINO DORINO</td>\n",
       "      <td>2</td>\n",
       "      <td>45.505079</td>\n",
       "      <td>9.093327</td>\n",
       "    </tr>\n",
       "  </tbody>\n",
       "</table>\n",
       "</div>"
      ],
      "text/plain": [
       "   ID        FERMATA  N_ARCHI   latitude  longitude\n",
       "0   2        GESSATE        1  45.546128   9.437564\n",
       "1   4           ZARA        2  45.492662   9.192703\n",
       "2   5       S.DONATO        1  45.430214   9.256324\n",
       "3   6     MACIACHINI        2  45.497771   9.184904\n",
       "4   8  MOLINO DORINO        2  45.505079   9.093327"
      ]
     },
     "execution_count": 142,
     "metadata": {},
     "output_type": "execute_result"
    }
   ],
   "source": [
    "df_metro.head()"
   ]
  },
  {
   "cell_type": "code",
   "execution_count": 28,
   "id": "2e32232a",
   "metadata": {},
   "outputs": [],
   "source": [
    "df_metro.rename(columns={'DO_Y':'latitude', 'DO_X':'longitude'}, inplace=True)"
   ]
  },
  {
   "cell_type": "code",
   "execution_count": 29,
   "id": "77544d9c",
   "metadata": {},
   "outputs": [],
   "source": [
    "geo_metro = df_metro.drop(['ID', 'N_ARCHI'], axis=1)"
   ]
  },
  {
   "cell_type": "code",
   "execution_count": 50,
   "id": "e0182887",
   "metadata": {},
   "outputs": [
    {
     "data": {
      "text/html": [
       "<div>\n",
       "<style scoped>\n",
       "    .dataframe tbody tr th:only-of-type {\n",
       "        vertical-align: middle;\n",
       "    }\n",
       "\n",
       "    .dataframe tbody tr th {\n",
       "        vertical-align: top;\n",
       "    }\n",
       "\n",
       "    .dataframe thead th {\n",
       "        text-align: right;\n",
       "    }\n",
       "</style>\n",
       "<table border=\"1\" class=\"dataframe\">\n",
       "  <thead>\n",
       "    <tr style=\"text-align: right;\">\n",
       "      <th></th>\n",
       "      <th>FERMATA</th>\n",
       "      <th>latitude</th>\n",
       "      <th>longitude</th>\n",
       "    </tr>\n",
       "  </thead>\n",
       "  <tbody>\n",
       "    <tr>\n",
       "      <th>0</th>\n",
       "      <td>GESSATE</td>\n",
       "      <td>45.546128</td>\n",
       "      <td>9.437564</td>\n",
       "    </tr>\n",
       "    <tr>\n",
       "      <th>1</th>\n",
       "      <td>ZARA</td>\n",
       "      <td>45.492662</td>\n",
       "      <td>9.192703</td>\n",
       "    </tr>\n",
       "    <tr>\n",
       "      <th>2</th>\n",
       "      <td>S.DONATO</td>\n",
       "      <td>45.430214</td>\n",
       "      <td>9.256324</td>\n",
       "    </tr>\n",
       "    <tr>\n",
       "      <th>3</th>\n",
       "      <td>MACIACHINI</td>\n",
       "      <td>45.497771</td>\n",
       "      <td>9.184904</td>\n",
       "    </tr>\n",
       "    <tr>\n",
       "      <th>4</th>\n",
       "      <td>MOLINO DORINO</td>\n",
       "      <td>45.505079</td>\n",
       "      <td>9.093327</td>\n",
       "    </tr>\n",
       "    <tr>\n",
       "      <th>...</th>\n",
       "      <td>...</td>\n",
       "      <td>...</td>\n",
       "      <td>...</td>\n",
       "    </tr>\n",
       "    <tr>\n",
       "      <th>88</th>\n",
       "      <td>COMASINA</td>\n",
       "      <td>45.531556</td>\n",
       "      <td>9.161898</td>\n",
       "    </tr>\n",
       "    <tr>\n",
       "      <th>89</th>\n",
       "      <td>AFFORI NORD</td>\n",
       "      <td>45.522379</td>\n",
       "      <td>9.167983</td>\n",
       "    </tr>\n",
       "    <tr>\n",
       "      <th>90</th>\n",
       "      <td>AFFORI CENTRO</td>\n",
       "      <td>45.512880</td>\n",
       "      <td>9.174410</td>\n",
       "    </tr>\n",
       "    <tr>\n",
       "      <th>91</th>\n",
       "      <td>DERGANO</td>\n",
       "      <td>45.505225</td>\n",
       "      <td>9.179710</td>\n",
       "    </tr>\n",
       "    <tr>\n",
       "      <th>92</th>\n",
       "      <td>PERO</td>\n",
       "      <td>45.508957</td>\n",
       "      <td>9.085694</td>\n",
       "    </tr>\n",
       "  </tbody>\n",
       "</table>\n",
       "<p>93 rows × 3 columns</p>\n",
       "</div>"
      ],
      "text/plain": [
       "          FERMATA   latitude  longitude\n",
       "0         GESSATE  45.546128   9.437564\n",
       "1            ZARA  45.492662   9.192703\n",
       "2        S.DONATO  45.430214   9.256324\n",
       "3      MACIACHINI  45.497771   9.184904\n",
       "4   MOLINO DORINO  45.505079   9.093327\n",
       "..            ...        ...        ...\n",
       "88       COMASINA  45.531556   9.161898\n",
       "89    AFFORI NORD  45.522379   9.167983\n",
       "90  AFFORI CENTRO  45.512880   9.174410\n",
       "91        DERGANO  45.505225   9.179710\n",
       "92           PERO  45.508957   9.085694\n",
       "\n",
       "[93 rows x 3 columns]"
      ]
     },
     "execution_count": 50,
     "metadata": {},
     "output_type": "execute_result"
    }
   ],
   "source": [
    "geo_metro"
   ]
  },
  {
   "cell_type": "code",
   "execution_count": 143,
   "id": "2161fbc5",
   "metadata": {},
   "outputs": [
    {
     "data": {
      "text/plain": [
       "<matplotlib.collections.PathCollection at 0x2490d1f9b80>"
      ]
     },
     "execution_count": 143,
     "metadata": {},
     "output_type": "execute_result"
    },
    {
     "data": {
      "image/png": "[encoded data removed]",
      "text/plain": [
       "<Figure size 640x480 with 1 Axes>"
      ]
     },
     "metadata": {},
     "output_type": "display_data"
    }
   ],
   "source": [
    "plt.scatter(geo_unsuccess['longitude'],geo_unsuccess['latitude'], s = 1, c = 'green')\n",
    "plt.scatter(geo_success['longitude'],geo_success['latitude'], s = 1, c = 'red')\n",
    "plt.scatter(geo_metro['longitude'],geo_metro['latitude'], s = 1, c = 'yellow')"
   ]
  },
  {
   "cell_type": "markdown",
   "id": "bde5e21b",
   "metadata": {},
   "source": [
    "togliere fermate metro al di fuori del centro di milano"
   ]
  },
  {
   "cell_type": "code",
   "execution_count": 30,
   "id": "eee6a959",
   "metadata": {},
   "outputs": [],
   "source": [
    "import numpy as np"
   ]
  },
  {
   "cell_type": "code",
   "execution_count": 31,
   "id": "70524a81",
   "metadata": {},
   "outputs": [],
   "source": [
    "from numpy import sin, cos, arccos, pi, round"
   ]
  },
  {
   "cell_type": "code",
   "execution_count": 32,
   "id": "315cc855",
   "metadata": {},
   "outputs": [],
   "source": [
    "##funzioni in generale per trovare distanza date 2 coordinate terrestri\n",
    "\n",
    "def rad2deg(radians):\n",
    "    degrees = radians * 180 / pi\n",
    "    return degrees\n",
    "\n",
    "def deg2rad(degrees):\n",
    "    radians = degrees * pi / 180\n",
    "    return radians\n",
    "\n",
    "def distanza(latitude1, longitude1, latitude2, longitude2):\n",
    "    \n",
    "    theta = longitude1 - longitude2\n",
    "    \n",
    "    distance = 60 * 1.1515 * rad2deg(\n",
    "        arccos(\n",
    "            (sin(deg2rad(latitude1)) * sin(deg2rad(latitude2))) + \n",
    "            (cos(deg2rad(latitude1)) * cos(deg2rad(latitude2)) * cos(deg2rad(theta)))\n",
    "        )\n",
    "    )\n",
    "    return round(distance * 1609.344, 2) ##distanza in metri con due decimali "
   ]
  },
  {
   "cell_type": "code",
   "execution_count": 33,
   "id": "a2115afa",
   "metadata": {},
   "outputs": [
    {
     "data": {
      "text/plain": [
       "3670.06"
      ]
     },
     "execution_count": 33,
     "metadata": {},
     "output_type": "execute_result"
    }
   ],
   "source": [
    "distanza(geo_success['latitude'][1], geo_success['longitude'][1],geo_metro['latitude'][1], geo_metro['longitude'][1])"
   ]
  },
  {
   "cell_type": "code",
   "execution_count": 34,
   "id": "9871c63c",
   "metadata": {},
   "outputs": [
    {
     "data": {
      "text/plain": [
       "45.5244791938931"
      ]
     },
     "execution_count": 34,
     "metadata": {},
     "output_type": "execute_result"
    }
   ],
   "source": [
    "geo_metro.loc[6]['latitude']"
   ]
  },
  {
   "cell_type": "code",
   "execution_count": 48,
   "id": "ef70caf0",
   "metadata": {},
   "outputs": [],
   "source": [
    "i = 17"
   ]
  },
  {
   "cell_type": "code",
   "execution_count": 49,
   "id": "7a8fbced",
   "metadata": {},
   "outputs": [
    {
     "data": {
      "text/plain": [
       "20972.43"
      ]
     },
     "execution_count": 49,
     "metadata": {},
     "output_type": "execute_result"
    }
   ],
   "source": [
    "distanza(geo_success.loc[i]['latitude'], geo_success.loc[i]['longitude'],\n",
    "         geo_metro.loc[i]['latitude'], geo_metro.loc[i]['longitude'])"
   ]
  },
  {
   "cell_type": "code",
   "execution_count": 43,
   "id": "9eb726f8",
   "metadata": {},
   "outputs": [
    {
     "data": {
      "text/html": [
       "<div>\n",
       "<style scoped>\n",
       "    .dataframe tbody tr th:only-of-type {\n",
       "        vertical-align: middle;\n",
       "    }\n",
       "\n",
       "    .dataframe tbody tr th {\n",
       "        vertical-align: top;\n",
       "    }\n",
       "\n",
       "    .dataframe thead th {\n",
       "        text-align: right;\n",
       "    }\n",
       "</style>\n",
       "<table border=\"1\" class=\"dataframe\">\n",
       "  <thead>\n",
       "    <tr style=\"text-align: right;\">\n",
       "      <th></th>\n",
       "      <th>id</th>\n",
       "      <th>latitude</th>\n",
       "      <th>longitude</th>\n",
       "    </tr>\n",
       "  </thead>\n",
       "  <tbody>\n",
       "    <tr>\n",
       "      <th>0</th>\n",
       "      <td>5625937</td>\n",
       "      <td>45.46001</td>\n",
       "      <td>9.18582</td>\n",
       "    </tr>\n",
       "    <tr>\n",
       "      <th>1</th>\n",
       "      <td>206450</td>\n",
       "      <td>45.45238</td>\n",
       "      <td>9.20745</td>\n",
       "    </tr>\n",
       "    <tr>\n",
       "      <th>2</th>\n",
       "      <td>26374075</td>\n",
       "      <td>45.49226</td>\n",
       "      <td>9.22463</td>\n",
       "    </tr>\n",
       "    <tr>\n",
       "      <th>3</th>\n",
       "      <td>4123599</td>\n",
       "      <td>45.46024</td>\n",
       "      <td>9.18091</td>\n",
       "    </tr>\n",
       "    <tr>\n",
       "      <th>4</th>\n",
       "      <td>2759420</td>\n",
       "      <td>45.48264</td>\n",
       "      <td>9.18543</td>\n",
       "    </tr>\n",
       "    <tr>\n",
       "      <th>...</th>\n",
       "      <td>...</td>\n",
       "      <td>...</td>\n",
       "      <td>...</td>\n",
       "    </tr>\n",
       "    <tr>\n",
       "      <th>2160</th>\n",
       "      <td>3816798</td>\n",
       "      <td>45.47167</td>\n",
       "      <td>9.23089</td>\n",
       "    </tr>\n",
       "    <tr>\n",
       "      <th>2161</th>\n",
       "      <td>17899097</td>\n",
       "      <td>45.46499</td>\n",
       "      <td>9.22995</td>\n",
       "    </tr>\n",
       "    <tr>\n",
       "      <th>2162</th>\n",
       "      <td>3725671</td>\n",
       "      <td>45.47641</td>\n",
       "      <td>9.18230</td>\n",
       "    </tr>\n",
       "    <tr>\n",
       "      <th>2163</th>\n",
       "      <td>45512683</td>\n",
       "      <td>45.48123</td>\n",
       "      <td>9.17672</td>\n",
       "    </tr>\n",
       "    <tr>\n",
       "      <th>2164</th>\n",
       "      <td>22007360</td>\n",
       "      <td>45.44229</td>\n",
       "      <td>9.21282</td>\n",
       "    </tr>\n",
       "  </tbody>\n",
       "</table>\n",
       "<p>2165 rows × 3 columns</p>\n",
       "</div>"
      ],
      "text/plain": [
       "            id  latitude  longitude\n",
       "0      5625937  45.46001    9.18582\n",
       "1       206450  45.45238    9.20745\n",
       "2     26374075  45.49226    9.22463\n",
       "3      4123599  45.46024    9.18091\n",
       "4      2759420  45.48264    9.18543\n",
       "...        ...       ...        ...\n",
       "2160   3816798  45.47167    9.23089\n",
       "2161  17899097  45.46499    9.22995\n",
       "2162   3725671  45.47641    9.18230\n",
       "2163  45512683  45.48123    9.17672\n",
       "2164  22007360  45.44229    9.21282\n",
       "\n",
       "[2165 rows x 3 columns]"
      ]
     },
     "execution_count": 43,
     "metadata": {},
     "output_type": "execute_result"
    }
   ],
   "source": [
    "geo_success"
   ]
  },
  {
   "cell_type": "code",
   "execution_count": null,
   "id": "b3936ef5",
   "metadata": {},
   "outputs": [],
   "source": [
    "geo_metro.loc[5]"
   ]
  },
  {
   "cell_type": "markdown",
   "id": "89653d89",
   "metadata": {},
   "source": [
    "geo_success ha gli indici sfalsati, per quello da errore per alcuni indici,\n",
    "soluzioni: - si ridanno tutti gli indici (magari con un for/range), si cambia la funzione in modo che se non trovo un indice \n",
    "passa a quello successivo\n"
   ]
  },
  {
   "cell_type": "markdown",
   "id": "d6895161",
   "metadata": {},
   "source": [
    "sistemato questo, doppio ciclo for (1 per geo_success, 1 per geo_metro) per valutare tutte le distanze e mettere i risultati\n",
    "in un altro dataframe (????)"
   ]
  },
  {
   "cell_type": "code",
   "execution_count": 39,
   "id": "a9d3a336",
   "metadata": {},
   "outputs": [],
   "source": [
    "geo_success.reset_index(inplace=True)\n",
    "geo_success.drop(['index'], axis=1, inplace=True)"
   ]
  },
  {
   "cell_type": "code",
   "execution_count": 87,
   "id": "c2a3c331",
   "metadata": {},
   "outputs": [],
   "source": [
    "min_dis_success = []"
   ]
  },
  {
   "cell_type": "code",
   "execution_count": 88,
   "id": "77c7e161",
   "metadata": {},
   "outputs": [],
   "source": [
    "#tempo di esecuzione circa 2/3 minuti\n",
    "for i in range (2165):\n",
    "    min_dis = float('inf')\n",
    "    for h in range (93):\n",
    "        dis = distanza(geo_success.loc[i]['latitude'], geo_success.loc[i]['longitude'],\n",
    "         geo_metro.loc[h]['latitude'], geo_metro.loc[h]['longitude'])\n",
    "        if dis < min_dis:\n",
    "            min_dis = dis\n",
    "    \n",
    "    min_dis_success.append(min_dis)"
   ]
  },
  {
   "cell_type": "code",
   "execution_count": 101,
   "id": "a18fc34f",
   "metadata": {},
   "outputs": [
    {
     "data": {
      "text/html": [
       "<div>\n",
       "<style scoped>\n",
       "    .dataframe tbody tr th:only-of-type {\n",
       "        vertical-align: middle;\n",
       "    }\n",
       "\n",
       "    .dataframe tbody tr th {\n",
       "        vertical-align: top;\n",
       "    }\n",
       "\n",
       "    .dataframe thead th {\n",
       "        text-align: right;\n",
       "    }\n",
       "</style>\n",
       "<table border=\"1\" class=\"dataframe\">\n",
       "  <thead>\n",
       "    <tr style=\"text-align: right;\">\n",
       "      <th></th>\n",
       "      <th>id</th>\n",
       "      <th>latitude</th>\n",
       "      <th>longitude</th>\n",
       "    </tr>\n",
       "  </thead>\n",
       "  <tbody>\n",
       "    <tr>\n",
       "      <th>0</th>\n",
       "      <td>5678774</td>\n",
       "      <td>45.452340</td>\n",
       "      <td>9.174740</td>\n",
       "    </tr>\n",
       "    <tr>\n",
       "      <th>1</th>\n",
       "      <td>6139798</td>\n",
       "      <td>45.512520</td>\n",
       "      <td>9.130460</td>\n",
       "    </tr>\n",
       "    <tr>\n",
       "      <th>2</th>\n",
       "      <td>7479570</td>\n",
       "      <td>45.456200</td>\n",
       "      <td>9.201310</td>\n",
       "    </tr>\n",
       "    <tr>\n",
       "      <th>3</th>\n",
       "      <td>8438872</td>\n",
       "      <td>45.495470</td>\n",
       "      <td>9.207160</td>\n",
       "    </tr>\n",
       "    <tr>\n",
       "      <th>4</th>\n",
       "      <td>10609449</td>\n",
       "      <td>45.448450</td>\n",
       "      <td>9.181160</td>\n",
       "    </tr>\n",
       "    <tr>\n",
       "      <th>...</th>\n",
       "      <td>...</td>\n",
       "      <td>...</td>\n",
       "      <td>...</td>\n",
       "    </tr>\n",
       "    <tr>\n",
       "      <th>18200</th>\n",
       "      <td>4845413</td>\n",
       "      <td>45.476990</td>\n",
       "      <td>9.182210</td>\n",
       "    </tr>\n",
       "    <tr>\n",
       "      <th>18201</th>\n",
       "      <td>637425034363201358</td>\n",
       "      <td>45.457314</td>\n",
       "      <td>9.180191</td>\n",
       "    </tr>\n",
       "    <tr>\n",
       "      <th>18202</th>\n",
       "      <td>40817739</td>\n",
       "      <td>45.458340</td>\n",
       "      <td>9.179450</td>\n",
       "    </tr>\n",
       "    <tr>\n",
       "      <th>18203</th>\n",
       "      <td>592550481216316403</td>\n",
       "      <td>45.492150</td>\n",
       "      <td>9.193410</td>\n",
       "    </tr>\n",
       "    <tr>\n",
       "      <th>18204</th>\n",
       "      <td>10150665</td>\n",
       "      <td>45.460520</td>\n",
       "      <td>9.180800</td>\n",
       "    </tr>\n",
       "  </tbody>\n",
       "</table>\n",
       "<p>18205 rows × 3 columns</p>\n",
       "</div>"
      ],
      "text/plain": [
       "                       id   latitude  longitude\n",
       "0                 5678774  45.452340   9.174740\n",
       "1                 6139798  45.512520   9.130460\n",
       "2                 7479570  45.456200   9.201310\n",
       "3                 8438872  45.495470   9.207160\n",
       "4                10609449  45.448450   9.181160\n",
       "...                   ...        ...        ...\n",
       "18200             4845413  45.476990   9.182210\n",
       "18201  637425034363201358  45.457314   9.180191\n",
       "18202            40817739  45.458340   9.179450\n",
       "18203  592550481216316403  45.492150   9.193410\n",
       "18204            10150665  45.460520   9.180800\n",
       "\n",
       "[18205 rows x 3 columns]"
      ]
     },
     "execution_count": 101,
     "metadata": {},
     "output_type": "execute_result"
    }
   ],
   "source": [
    "geo_unsuccess"
   ]
  },
  {
   "cell_type": "code",
   "execution_count": 100,
   "id": "eaa06398",
   "metadata": {},
   "outputs": [
    {
     "name": "stderr",
     "output_type": "stream",
     "text": [
      "C:\\Users\\ivano\\AppData\\Local\\Temp\\ipykernel_4360\\1256151165.py:2: SettingWithCopyWarning: \n",
      "A value is trying to be set on a copy of a slice from a DataFrame\n",
      "\n",
      "See the caveats in the documentation: https://pandas.pydata.org/pandas-docs/stable/user_guide/indexing.html#returning-a-view-versus-a-copy\n",
      "  geo_unsuccess.drop(['index'], axis=1, inplace=True)\n"
     ]
    }
   ],
   "source": [
    "geo_unsuccess.reset_index(inplace=True)\n",
    "geo_unsuccess.drop(['index'], axis=1, inplace=True)"
   ]
  },
  {
   "cell_type": "code",
   "execution_count": 102,
   "id": "dc00b660",
   "metadata": {},
   "outputs": [],
   "source": [
    "min_dis_unsuccess = []"
   ]
  },
  {
   "cell_type": "code",
   "execution_count": 103,
   "id": "fa9226ed",
   "metadata": {},
   "outputs": [],
   "source": [
    "#tempo di esecuzione circa 10/15 minuti\n",
    "for i in range (18205):\n",
    "    min_dis = float('inf')\n",
    "    for h in range (93):\n",
    "        dis = distanza(geo_unsuccess.loc[i]['latitude'], geo_unsuccess.loc[i]['longitude'],\n",
    "         geo_metro.loc[h]['latitude'], geo_metro.loc[h]['longitude'])\n",
    "        if dis < min_dis:\n",
    "            min_dis = dis\n",
    "    \n",
    "    min_dis_unsuccess.append(min_dis)"
   ]
  },
  {
   "cell_type": "code",
   "execution_count": 106,
   "id": "f209ef68",
   "metadata": {},
   "outputs": [
    {
     "data": {
      "text/plain": [
       "[374.19,\n",
       " 2179.48,\n",
       " 431.04,\n",
       " 794.97,\n",
       " 1003.67,\n",
       " 648.2,\n",
       " 854.46,\n",
       " 288.61,\n",
       " 719.83,\n",
       " 700.01]"
      ]
     },
     "execution_count": 106,
     "metadata": {},
     "output_type": "execute_result"
    }
   ],
   "source": [
    "min_dis_unsuccess[:10]"
   ]
  },
  {
   "cell_type": "code",
   "execution_count": 77,
   "id": "b9e1e2e4",
   "metadata": {},
   "outputs": [],
   "source": [
    "import statistics"
   ]
  },
  {
   "cell_type": "code",
   "execution_count": 107,
   "id": "5b524a33",
   "metadata": {},
   "outputs": [],
   "source": [
    "mean_succ = statistics.mean(min_dis_success)"
   ]
  },
  {
   "cell_type": "code",
   "execution_count": 108,
   "id": "bc52d350",
   "metadata": {},
   "outputs": [
    {
     "data": {
      "text/plain": [
       "570.124572748268"
      ]
     },
     "execution_count": 108,
     "metadata": {},
     "output_type": "execute_result"
    }
   ],
   "source": [
    "mean_succ"
   ]
  },
  {
   "cell_type": "code",
   "execution_count": 109,
   "id": "c509fd60",
   "metadata": {},
   "outputs": [
    {
     "data": {
      "text/plain": [
       "570.1245727482678"
      ]
     },
     "execution_count": 109,
     "metadata": {},
     "output_type": "execute_result"
    }
   ],
   "source": [
    "geo_mean_succ = np.mean(min_dis_success)\n",
    "geo_mean_succ"
   ]
  },
  {
   "cell_type": "code",
   "execution_count": 110,
   "id": "922678ee",
   "metadata": {},
   "outputs": [],
   "source": [
    "std_succ = np.std(min_dis_success)"
   ]
  },
  {
   "cell_type": "code",
   "execution_count": 111,
   "id": "7dfc11ad",
   "metadata": {},
   "outputs": [
    {
     "data": {
      "text/plain": [
       "456.348810321666"
      ]
     },
     "execution_count": 111,
     "metadata": {},
     "output_type": "execute_result"
    }
   ],
   "source": [
    "std_succ"
   ]
  },
  {
   "cell_type": "code",
   "execution_count": 94,
   "id": "85dc5539",
   "metadata": {},
   "outputs": [
    {
     "data": {
      "text/plain": [
       "7.62"
      ]
     },
     "execution_count": 94,
     "metadata": {},
     "output_type": "execute_result"
    }
   ],
   "source": [
    "np.min(min_dis_success)"
   ]
  },
  {
   "cell_type": "code",
   "execution_count": 95,
   "id": "d33b09e9",
   "metadata": {},
   "outputs": [
    {
     "data": {
      "text/plain": [
       "3776.33"
      ]
     },
     "execution_count": 95,
     "metadata": {},
     "output_type": "execute_result"
    }
   ],
   "source": [
    "np.max(min_dis_success)"
   ]
  },
  {
   "cell_type": "code",
   "execution_count": 112,
   "id": "92a57d76",
   "metadata": {},
   "outputs": [],
   "source": [
    "mean_unsucc = np.mean(min_dis_unsuccess)"
   ]
  },
  {
   "cell_type": "code",
   "execution_count": 113,
   "id": "262bf686",
   "metadata": {},
   "outputs": [
    {
     "data": {
      "text/plain": [
       "682.329621532546"
      ]
     },
     "execution_count": 113,
     "metadata": {},
     "output_type": "execute_result"
    }
   ],
   "source": [
    "mean_unsucc"
   ]
  },
  {
   "cell_type": "code",
   "execution_count": 114,
   "id": "ad3b42ee",
   "metadata": {},
   "outputs": [
    {
     "data": {
      "text/plain": [
       "510.74879232127176"
      ]
     },
     "execution_count": 114,
     "metadata": {},
     "output_type": "execute_result"
    }
   ],
   "source": [
    "std_unsucc = np.std(min_dis_unsuccess)\n",
    "std_unsucc"
   ]
  },
  {
   "cell_type": "code",
   "execution_count": 115,
   "id": "f7e36b41",
   "metadata": {},
   "outputs": [
    {
     "data": {
      "text/plain": [
       "1.48"
      ]
     },
     "execution_count": 115,
     "metadata": {},
     "output_type": "execute_result"
    }
   ],
   "source": [
    "np.min(min_dis_unsuccess)"
   ]
  },
  {
   "cell_type": "code",
   "execution_count": 133,
   "id": "b35e55ad",
   "metadata": {},
   "outputs": [
    {
     "data": {
      "image/png": "[encoded data removed]",
      "text/plain": [
       "<Figure size 800x400 with 2 Axes>"
      ]
     },
     "metadata": {},
     "output_type": "display_data"
    }
   ],
   "source": [
    "fig, (axs, axu) = plt.subplots(figsize=(8,4), ncols=2)\n",
    "axs.boxplot(min_dis_success)\n",
    "axs.set_title(\"distanza metro/case di successo\")\n",
    "axu.boxplot(min_dis_unsuccess)\n",
    "axu.set_title(\"distanza metro/case di insuccesso\")\n",
    "plt.tight_layout()\n",
    "plt.show()"
   ]
  },
  {
   "cell_type": "code",
   "execution_count": null,
   "id": "8d673b00",
   "metadata": {},
   "outputs": [],
   "source": []
  }
 ],
 "metadata": {
  "kernelspec": {
   "display_name": "Python 3 (ipykernel)",
   "language": "python",
   "name": "python3"
  },
  "language_info": {
   "codemirror_mode": {
    "name": "ipython",
    "version": 3
   },
   "file_extension": ".py",
   "mimetype": "text/x-python",
   "name": "python",
   "nbconvert_exporter": "python",
   "pygments_lexer": "ipython3",
   "version": "3.9.13"
  }
 },
 "nbformat": 4,
 "nbformat_minor": 5
}
